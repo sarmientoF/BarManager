{
 "cells": [
  {
   "cell_type": "code",
   "execution_count": 3,
   "id": "f4fb51d6",
   "metadata": {},
   "outputs": [],
   "source": [
    "# 備考１(行番号)\t備考２(顧客番号)\t表示名\tﾌﾘｶﾞﾅ(顧客)\tﾌﾘｶﾞﾅ(会社)\t会社名\tボトル1\tボトル1番号\tボトル2\tボトル2番号\tボトル3\tボトル3番号\n",
    "# Remark 1 (line number) Remark 2 (customer number) Display name Furigana (customer)\tFurigana (Company) Company name Bottle 1 Bottle 1 number Bottle 2 Bottle 2 number Bottle 3 Bottle 3 number\n",
    "\n",
    "# 1\t3\t相田  得皓\tｱｲﾀﾞ　ﾄｸﾋﾛ\tｱｲﾀﾞｳﾝﾕ\t相田運輸㈱\n",
    "# 2\t4\t青木  道男\tｱｵｷ　ﾐﾁｵ\tｱｵｷﾓｸｻﾞｲ\t青木木材㈱iiii\n",
    "import pandas as pd\n",
    "import numpy as np\n",
    "import uuid\n",
    "from datetime import datetime\n",
    "import jaconv\n",
    "import json\n",
    "import time"
   ]
  },
  {
   "cell_type": "code",
   "execution_count": 4,
   "id": "663c8291",
   "metadata": {},
   "outputs": [
    {
     "data": {
      "text/plain": [
       "'71daf450-03d2-4d18-ad13-729d6cb90a46'"
      ]
     },
     "execution_count": 4,
     "metadata": {},
     "output_type": "execute_result"
    }
   ],
   "source": [
    "str(uuid.uuid4())"
   ]
  },
  {
   "cell_type": "code",
   "execution_count": 5,
   "id": "8647ab47",
   "metadata": {},
   "outputs": [],
   "source": [
    "dfs = pd.read_excel(\"data.xlsx\", sheet_name=None)"
   ]
  },
  {
   "cell_type": "code",
   "execution_count": 6,
   "id": "7576d260",
   "metadata": {},
   "outputs": [],
   "source": [
    "sheet = dfs[\"Sheet1\"]\n",
    "cols = sheet.columns"
   ]
  },
  {
   "cell_type": "code",
   "execution_count": 7,
   "id": "a23725ef",
   "metadata": {},
   "outputs": [],
   "source": [
    "bots1 = sheet[\"ボトル1\"][sheet[\"ボトル1\"].notnull()]\n",
    "bots2 = sheet[\"ボトル2\"][sheet[\"ボトル2\"].notnull()]\n",
    "bots3 = sheet[\"ボトル3\"][sheet[\"ボトル3\"].notnull()]\n",
    "bottles = set(bots1.to_list() + bots2.to_list() + bots3.to_list())"
   ]
  },
  {
   "cell_type": "code",
   "execution_count": 8,
   "id": "b620465c",
   "metadata": {},
   "outputs": [],
   "source": [
    "now_date = datetime.utcnow().isoformat()[:-3]+ \"Z\"\n",
    "time.sleep(5)"
   ]
  },
  {
   "cell_type": "code",
   "execution_count": 9,
   "id": "accac213",
   "metadata": {},
   "outputs": [],
   "source": [
    "\n",
    "now_date2 = datetime.utcnow().isoformat()[:-3]+ \"Z\""
   ]
  },
  {
   "cell_type": "code",
   "execution_count": 10,
   "id": "69066e2f",
   "metadata": {},
   "outputs": [
    {
     "data": {
      "text/plain": [
       "'2022-04-26T11:17:03.803Z'"
      ]
     },
     "execution_count": 10,
     "metadata": {},
     "output_type": "execute_result"
    }
   ],
   "source": [
    "now_date2"
   ]
  },
  {
   "cell_type": "code",
   "execution_count": 11,
   "id": "56104d9d",
   "metadata": {},
   "outputs": [],
   "source": [
    "drinks = dict()\n",
    "drinks_id = dict()\n",
    "for bottle in bottles:\n",
    "    uid = str(uuid.uuid4())\n",
    "    drinks_id[bottle] = uid\n",
    "    drinks[uid] = {\n",
    "        \"attributes\": {\n",
    "            \"name\": bottle,\n",
    "            \"url\": \"\"\n",
    "        },\n",
    "        \"createdAt\": now_date,\n",
    "        \"updatedAt\": now_date\n",
    "    }\n",
    "    "
   ]
  },
  {
   "cell_type": "code",
   "execution_count": 19,
   "id": "02273826",
   "metadata": {},
   "outputs": [],
   "source": [
    "users = dict()\n",
    "all_orders = dict()\n",
    "for index, row in sheet.iterrows():\n",
    "    na_row = row.isna()\n",
    "#     my_bottles = []\n",
    "    my_bottles = [(row[f\"ボトル{i}\"], str(row[f\"ボトル{i}番号\"])) for i in range(1,4) if not na_row[f\"ボトル{i}\"]]\n",
    "    \n",
    "    uid = str(uuid.uuid4())\n",
    "    orders = dict()\n",
    "    for my_bottle in my_bottles:\n",
    "        uid_order = str(uuid.uuid4())\n",
    "        \n",
    "        alreadyExists = dict(filter(lambda o:  o[1][\"attributes\"][\"drinkId\"] == drinks_id[my_bottle[0]] and o[1][\"attributes\"][\"drinkCode\"] == my_bottle[1],all_orders.items()))\n",
    "        if alreadyExists:\n",
    "            uid_order = list(alreadyExists)[0]\n",
    "        orders[uid_order] = {\n",
    "            \"drinkCode\": my_bottle[1],\n",
    "            \"drinkId\": drinks_id[my_bottle[0]]\n",
    "        }\n",
    "        all_orders[uid_order] = {\n",
    "          \"attributes\": {\n",
    "            \"drinkCode\": my_bottle[1],\n",
    "            \"drinkId\": drinks_id[my_bottle[0]],\n",
    "            \"inUse\": False,\n",
    "            \"userId\": uid\n",
    "          },\n",
    "          \"createdAt\": now_date,\n",
    "          \"uid\": uid_order,\n",
    "          \"updatedAt\": now_date\n",
    "        }\n",
    "    users[uid] = {\n",
    "      \"attributes\": {\n",
    "        \"birthday\": \"\",\n",
    "        \"email\": \"\" if na_row['電子メール アドレス'] else row['電子メール アドレス'],\n",
    "        \"furigana\": jaconv.h2z(\"\" if na_row['ﾌﾘｶﾞﾅ(顧客)'] else row['ﾌﾘｶﾞﾅ(顧客)']),\n",
    "        \"introducer\": \"\",\n",
    "        \"isInStore\": False,\n",
    "        \"job\": \"\" if na_row['会社名'] else  row['会社名'],\n",
    "        \"memo\": \"\",\n",
    "        \"name\": \"\" if na_row['表示名'] else row['表示名'],\n",
    "        \"phone\": \"\" if na_row['携帯電話'] else row['携帯電話'],\n",
    "        \"photo\": \"\",\n",
    "        \"customerNumber\": row['備考２(顧客番号)']\n",
    "      },\n",
    "      \"createdAt\": now_date,\n",
    "      \"updatedAt\": now_date2,\n",
    "      \"relationships\": {\n",
    "        \"orders\": orders\n",
    "      }\n",
    "    }\n",
    "#     if(index > 200): break"
   ]
  },
  {
   "cell_type": "code",
   "execution_count": 18,
   "id": "afd2eacf",
   "metadata": {},
   "outputs": [
    {
     "data": {
      "text/plain": [
       "備考１(行番号)      False\n",
       "備考２(顧客番号)     False\n",
       "表示名           False\n",
       "ﾌﾘｶﾞﾅ(顧客)     False\n",
       "氏名            False\n",
       "役職名            True\n",
       "ﾌﾘｶﾞﾅ(会社)     False\n",
       "会社名           False\n",
       "部署名           False\n",
       "勤務先郵便番号       False\n",
       "勤務先住所１        False\n",
       "勤務先住所２        False\n",
       "勤務先電話番号       False\n",
       "勤務先ファックス       True\n",
       "携帯電話          False\n",
       "電子メール アドレス    False\n",
       "ボトル1           True\n",
       "ボトル1番号         True\n",
       "ボトル2           True\n",
       "ボトル2番号         True\n",
       "ボトル3           True\n",
       "ボトル3番号         True\n",
       "Name: 11205, dtype: bool"
      ]
     },
     "execution_count": 18,
     "metadata": {},
     "output_type": "execute_result"
    }
   ],
   "source": [
    "# na_row['備考２(顧客番号)']\n",
    "na_row"
   ]
  },
  {
   "cell_type": "code",
   "execution_count": 15,
   "id": "ad6601eb",
   "metadata": {},
   "outputs": [],
   "source": [
    "with open ('bar.json', \"r\") as f:\n",
    "    data_ = json.loads(f.read())"
   ]
  },
  {
   "cell_type": "code",
   "execution_count": 20,
   "id": "e4dadc30",
   "metadata": {},
   "outputs": [],
   "source": [
    "all_data = dict()\n",
    "all_data[\"bottles\"] = drinks\n",
    "all_data[\"users\"] = users\n",
    "all_data[\"orders\"] = all_orders\n",
    "all_data[\"admins\"] = data_[\"admins\"]\n",
    "all_data[\"roles\"] = data_[\"roles\"]\n",
    "with open('new_data.json', 'w', encoding='utf8') as fp:\n",
    "    json.dump(all_data, fp, ensure_ascii=False)"
   ]
  },
  {
   "cell_type": "code",
   "execution_count": 21,
   "id": "8e6e9975",
   "metadata": {},
   "outputs": [],
   "source": [
    "!open ."
   ]
  }
 ],
 "metadata": {
  "kernelspec": {
   "display_name": "Python 3 (ipykernel)",
   "language": "python",
   "name": "python3"
  },
  "language_info": {
   "codemirror_mode": {
    "name": "ipython",
    "version": 3
   },
   "file_extension": ".py",
   "mimetype": "text/x-python",
   "name": "python",
   "nbconvert_exporter": "python",
   "pygments_lexer": "ipython3",
   "version": "3.9.10"
  }
 },
 "nbformat": 4,
 "nbformat_minor": 5
}

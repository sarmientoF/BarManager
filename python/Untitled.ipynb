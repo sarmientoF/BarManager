{
 "cells": [
  {
   "cell_type": "code",
   "execution_count": 156,
   "id": "223c1d9a",
   "metadata": {},
   "outputs": [],
   "source": [
    "# 備考１(行番号)\t備考２(顧客番号)\t表示名\tﾌﾘｶﾞﾅ(顧客)\tﾌﾘｶﾞﾅ(会社)\t会社名\tボトル1\tボトル1番号\tボトル2\tボトル2番号\tボトル3\tボトル3番号\n",
    "# Remark 1 (line number) Remark 2 (customer number) Display name Furigana (customer)\tFurigana (Company) Company name Bottle 1 Bottle 1 number Bottle 2 Bottle 2 number Bottle 3 Bottle 3 number\n",
    "\n",
    "# 1\t3\t相田  得皓\tｱｲﾀﾞ　ﾄｸﾋﾛ\tｱｲﾀﾞｳﾝﾕ\t相田運輸㈱\n",
    "# 2\t4\t青木  道男\tｱｵｷ　ﾐﾁｵ\tｱｵｷﾓｸｻﾞｲ\t青木木材㈱iiii\n",
    "import pandas as pd\n",
    "import numpy as np\n",
    "import uuid\n",
    "from datetime import datetime\n",
    "import jaconv\n",
    "import json"
   ]
  },
  {
   "cell_type": "code",
   "execution_count": 67,
   "id": "30299273",
   "metadata": {},
   "outputs": [
    {
     "data": {
      "text/plain": [
       "'9af1ce05-edca-4044-9b07-ebd9e148b601'"
      ]
     },
     "execution_count": 67,
     "metadata": {},
     "output_type": "execute_result"
    }
   ],
   "source": [
    "str(uuid.uuid4())"
   ]
  },
  {
   "cell_type": "code",
   "execution_count": 1,
   "id": "7229f3d9",
   "metadata": {},
   "outputs": [],
   "source": [
    "dfs = pd.read_excel(\"data.xlsx\", sheet_name=None)"
   ]
  },
  {
   "cell_type": "code",
   "execution_count": 2,
   "id": "016e9bc3",
   "metadata": {},
   "outputs": [],
   "source": [
    "sheet = dfs[\"Sheet1\"]\n",
    "cols = sheet.columns"
   ]
  },
  {
   "cell_type": "code",
   "execution_count": 54,
   "id": "9d1eac75",
   "metadata": {},
   "outputs": [],
   "source": [
    "bots1 = sheet[\"ボトル1\"][sheet[\"ボトル1\"].notnull()]\n",
    "bots2 = sheet[\"ボトル2\"][sheet[\"ボトル2\"].notnull()]\n",
    "bots3 = sheet[\"ボトル3\"][sheet[\"ボトル3\"].notnull()]\n",
    "bottles = set(bots1.to_list() + bots2.to_list() + bots3.to_list())"
   ]
  },
  {
   "cell_type": "code",
   "execution_count": null,
   "id": "9f92fe88",
   "metadata": {},
   "outputs": [],
   "source": [
    "  \"drinks\": {\n",
    "    \"7cfdc16a-817e-4ab2-ad89-1d3ac0fa5aaf\": {\n",
    "      \"attributes\": {\n",
    "        \"name\": \"Tequila\",\n",
    "        \"url\": \"https://firebasestorage.googleapis.com/v0/b/barmanagerx.appspot.com/o/drinks%2F7cfdc16a-817e-4ab2-ad89-1d3ac0fa5aaf?alt=media&token=24c7e5c7-2163-4629-a414-e22443cb3ec3\"\n",
    "      },\n",
    "      \"createdAt\": \"2021-11-07T07:37:59.675Z\",\n",
    "      \"updatedAt\": \"2021-11-07T07:37:59.675Z\"\n",
    "    },"
   ]
  },
  {
   "cell_type": "code",
   "execution_count": 190,
   "id": "f20a8690",
   "metadata": {},
   "outputs": [
    {
     "data": {
      "text/plain": [
       "'2022-04-22T05:24:37.905Z'"
      ]
     },
     "execution_count": 190,
     "metadata": {},
     "output_type": "execute_result"
    }
   ],
   "source": [
    "datetime.utcnow().isoformat()[:-3]+ \"Z\"\n",
    "# now_date = my_date.strftime(\"%Y-%m-%dT%H:%M:%S.000Z\")\n",
    "\n",
    "\n",
    "# \"2022-04-22T05:23:26.080Z\" = $1"
   ]
  },
  {
   "cell_type": "code",
   "execution_count": 191,
   "id": "af91a369",
   "metadata": {},
   "outputs": [],
   "source": [
    "now_date = datetime.utcnow().isoformat()[:-3]+ \"Z\"\n",
    "\n"
   ]
  },
  {
   "cell_type": "code",
   "execution_count": 192,
   "id": "1d6e9ff5",
   "metadata": {},
   "outputs": [
    {
     "data": {
      "text/plain": [
       "'2022-04-22T05:25:11.469Z'"
      ]
     },
     "execution_count": 192,
     "metadata": {},
     "output_type": "execute_result"
    }
   ],
   "source": [
    "now_date"
   ]
  },
  {
   "cell_type": "code",
   "execution_count": 193,
   "id": "8985fab9",
   "metadata": {},
   "outputs": [],
   "source": [
    "# now_date = datetime.utcnow().isoformat()[:-3]+ \"Z\"\n",
    "\n",
    "now_date2 = datetime.utcnow().isoformat()[:-3]+ \"Z\"\n",
    "\n"
   ]
  },
  {
   "cell_type": "code",
   "execution_count": 194,
   "id": "3eb089e1",
   "metadata": {},
   "outputs": [
    {
     "data": {
      "text/plain": [
       "'2022-04-22T05:25:17.904Z'"
      ]
     },
     "execution_count": 194,
     "metadata": {},
     "output_type": "execute_result"
    }
   ],
   "source": [
    "now_date2"
   ]
  },
  {
   "cell_type": "code",
   "execution_count": 195,
   "id": "24800574",
   "metadata": {},
   "outputs": [],
   "source": [
    "drinks = dict()\n",
    "drinks_id = dict()\n",
    "for bottle in bottles:\n",
    "    uid = str(uuid.uuid4())\n",
    "    drinks_id[bottle] = uid\n",
    "    drinks[uid] = {\n",
    "        \"attributes\": {\n",
    "            \"name\": bottle,\n",
    "            \"url\": \"\"\n",
    "        },\n",
    "        \"createdAt\": now_date,\n",
    "        \"updatedAt\": now_date\n",
    "    }\n",
    "    "
   ]
  },
  {
   "cell_type": "code",
   "execution_count": 139,
   "id": "4a8e2340",
   "metadata": {},
   "outputs": [
    {
     "data": {
      "text/plain": [
       "{'響': {...},\n",
       " 'バラン17': {...},\n",
       " 'メーカーズ': {...},\n",
       " '碧': {...},\n",
       " 'マッカランダブルカスク': {...},\n",
       " 'マッカランファインオーク': {...},\n",
       " 'クラウンロイヤル': {...},\n",
       " 'ローゼス': {...},\n",
       " '竹鶴': {...},\n",
       " 'グレンフィデック': {...},\n",
       " 'ブラントン': {...},\n",
       " 'トマーティン': {...},\n",
       " 'ラフロイド': {...},\n",
       " 'ハーパー': {...},\n",
       " 'カナディアンクラブ': {...},\n",
       " 'クルバジェ': {...},\n",
       " '黒響': {...},\n",
       " 'グレングラント': {...},\n",
       " '竹鶴１７': {...},\n",
       " 'ブレンダー響': {...},\n",
       " '竹鶴17': {...},\n",
       " 'ヘネシー': {...},\n",
       " '白州１２': {...},\n",
       " '白州ノンビンテージ': {...},\n",
       " 'ジャックダニエル': {...},\n",
       " '山崎': {...}}"
      ]
     },
     "execution_count": 139,
     "metadata": {},
     "output_type": "execute_result"
    }
   ],
   "source": [
    "drinks_id['響'][]"
   ]
  },
  {
   "cell_type": "code",
   "execution_count": null,
   "id": "6300635a",
   "metadata": {},
   "outputs": [],
   "source": [
    "    \"002a7479-f75f-463e-886b-e4fd2bc639f8\": {\n",
    "      \"attributes\": {\n",
    "        \"drinkCode\": \"23\",\n",
    "        \"drinkId\": \"027bbc76-462a-49b3-adb1-dfe7b3366fde\",\n",
    "        \"inUse\": false,\n",
    "        \"userId\": \"8d12292d-4827-4904-9376-c455d614a184\"\n",
    "      },\n",
    "      \"createdAt\": \"2021-09-11T22:34:45.331931\",\n",
    "      \"uid\": \"002a7479-f75f-463e-886b-e4fd2bc639f8\",\n",
    "      \"updatedAt\": \"2021-09-21T22:34:45.331913\"\n",
    "    },"
   ]
  },
  {
   "cell_type": "code",
   "execution_count": 198,
   "id": "b01c4d80",
   "metadata": {},
   "outputs": [],
   "source": [
    "users = dict()\n",
    "all_orders = dict()\n",
    "for index, row in sheet.iterrows():\n",
    "    na_row = row.isna()\n",
    "#     my_bottles = []\n",
    "    my_bottles = [(row[f\"ボトル{i}\"], str(row[f\"ボトル{i}番号\"])) for i in range(1,4) if not na_row[f\"ボトル{i}\"]]\n",
    "    \n",
    "    uid = str(uuid.uuid4())\n",
    "    orders = dict()\n",
    "    for my_bottle in my_bottles:\n",
    "        uid_order = str(uuid.uuid4())\n",
    "        \n",
    "        orders[uid_order] = {\n",
    "            \"drinkCode\": my_bottle[1],\n",
    "            \"drinkId\": drinks_id[my_bottle[0]]\n",
    "        }\n",
    "        all_orders[uid_order] = {\n",
    "          \"attributes\": {\n",
    "            \"drinkCode\": my_bottle[1],\n",
    "            \"drinkId\": drinks_id[my_bottle[0]],\n",
    "            \"inUse\": False,\n",
    "            \"userId\": uid\n",
    "          },\n",
    "          \"createdAt\": now_date,\n",
    "          \"uid\": uid_order,\n",
    "          \"updatedAt\": now_date\n",
    "        }\n",
    "    users[uid] = {\n",
    "      \"attributes\": {\n",
    "        \"birthday\": \"\",\n",
    "        \"email\": \"\" if na_row['電子メール アドレス'] else row['電子メール アドレス'],\n",
    "        \"furigana\": jaconv.h2z(\"\" if na_row['ﾌﾘｶﾞﾅ(顧客)'] else row['ﾌﾘｶﾞﾅ(顧客)']),\n",
    "        \"introducer\": \"\",\n",
    "        \"isInStore\": False,\n",
    "        \"job\": \"\" if na_row['会社名'] else  row['会社名'],\n",
    "        \"memo\": \"\",\n",
    "        \"name\": \"\" if na_row['表示名'] else row['表示名'],\n",
    "        \"phone\": \"\" if na_row['携帯電話'] else row['携帯電話'],\n",
    "        \"photo\": \"\"\n",
    "      },\n",
    "      \"createdAt\": now_date,\n",
    "      \"updatedAt\": now_date2,\n",
    "      \"relationships\": {\n",
    "        \"orders\": orders\n",
    "      }\n",
    "    }\n",
    "#     if(index > 200): break"
   ]
  },
  {
   "cell_type": "code",
   "execution_count": 199,
   "id": "17e78006",
   "metadata": {},
   "outputs": [],
   "source": [
    "all_data = dict()\n",
    "all_data[\"bottles\"] = drinks\n",
    "all_data[\"users\"] = users\n",
    "all_data[\"orders\"] = all_orders\n",
    "with open('new_data.json', 'w', encoding='utf8') as fp:\n",
    "    json.dump(all_data, fp, ensure_ascii=False)"
   ]
  },
  {
   "cell_type": "code",
   "execution_count": 159,
   "id": "875bf165",
   "metadata": {},
   "outputs": [],
   "source": [
    "with open('new_data.json', 'w', encoding='utf8') as fp:\n",
    "    json.dump(all_data, fp, ensure_ascii=False)"
   ]
  },
  {
   "cell_type": "code",
   "execution_count": 102,
   "id": "35faab5f",
   "metadata": {},
   "outputs": [
    {
     "ename": "SyntaxError",
     "evalue": "unexpected EOF while parsing (600063397.py, line 4)",
     "output_type": "error",
     "traceback": [
      "\u001b[0;36m  Input \u001b[0;32mIn [102]\u001b[0;36m\u001b[0m\n\u001b[0;31m    'Bottle 3 number'],\u001b[0m\n\u001b[0m                       ^\u001b[0m\n\u001b[0;31mSyntaxError\u001b[0m\u001b[0;31m:\u001b[0m unexpected EOF while parsing\n"
     ]
    }
   ],
   "source": []
  },
  {
   "cell_type": "code",
   "execution_count": 38,
   "id": "3a04557d",
   "metadata": {},
   "outputs": [],
   "source": []
  },
  {
   "cell_type": "code",
   "execution_count": 34,
   "id": "fdbb8594",
   "metadata": {},
   "outputs": [
    {
     "data": {
      "text/plain": [
       "float"
      ]
     },
     "execution_count": 34,
     "metadata": {},
     "output_type": "execute_result"
    }
   ],
   "source": []
  }
 ],
 "metadata": {
  "kernelspec": {
   "display_name": "Python 3 (ipykernel)",
   "language": "python",
   "name": "python3"
  },
  "language_info": {
   "codemirror_mode": {
    "name": "ipython",
    "version": 3
   },
   "file_extension": ".py",
   "mimetype": "text/x-python",
   "name": "python",
   "nbconvert_exporter": "python",
   "pygments_lexer": "ipython3",
   "version": "3.9.10"
  }
 },
 "nbformat": 4,
 "nbformat_minor": 5
}
